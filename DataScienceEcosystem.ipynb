{
 "cells": [
  {
   "cell_type": "markdown",
   "id": "51d77fa7-436a-40c6-b45d-f42ba1742bb6",
   "metadata": {},
   "source": [
    "# Data Science Tools and Ecosystem"
   ]
  },
  {
   "cell_type": "markdown",
   "id": "6b48f776-5a81-4428-a6b9-f1681147bb2b",
   "metadata": {},
   "source": [
    "##### _Exercise 3 - Create a markdown cell for an introduction_\n",
    "\n",
    "In this notebook, Data Science Tools and Ecosystem are summarized.\n",
    "\n",
    "##### _Exercise 10 - Insert a markdown cell to list Objectives_\n",
    "\n",
    "__Objectives:__\n",
    "- List popular data science languages\n",
    "- List popular data science libraries\n",
    "- List at least three different Data Science Tools\n",
    "- Create arithmetic expressions"
   ]
  },
  {
   "cell_type": "markdown",
   "id": "9dc22e39-ae2b-4098-b0f5-969133776c36",
   "metadata": {},
   "source": [
    "##### _Exercise 4 - Create a markdown cell to list data science languages_\n",
    "\n",
    "Some of the popular languages that Data Scientists use are:\n",
    "1. Python\n",
    "2. SQL\n",
    "3. R"
   ]
  },
  {
   "cell_type": "markdown",
   "id": "2b770efb-9b0a-41ca-aaf8-6fab2146d7ac",
   "metadata": {},
   "source": [
    "##### _Exercise 5 - Create a markdown cell to list data science libraries_\n",
    "\n",
    "Some of the commonly used libraries used by Data Scientists include:\n",
    "1. TensorFlow\n",
    "2. Matplotlyb\n",
    "3. Pandas"
   ]
  },
  {
   "cell_type": "markdown",
   "id": "0722b62b-433e-4ca9-a40b-2501e8a5ef74",
   "metadata": {},
   "source": [
    "##### _Exercise 6 - Create a markdown cell with a table of Data Science tools_\n",
    "\n",
    "|Data Science Tools|\n",
    "|--|\n",
    "|Jupyter Notebook|\n",
    "|RStudio|\n",
    "|Visual Studio|\n"
   ]
  },
  {
   "cell_type": "markdown",
   "id": "d6fbc0f7-bf2d-4cc4-999f-facd6fe29554",
   "metadata": {},
   "source": [
    "##### _Exercise 7 - Create a markdown cell introducing arithmetic expression examples_\n",
    "\n",
    "### Below are a few examples of evaluating arithmetic expressions in Python."
   ]
  },
  {
   "cell_type": "code",
   "execution_count": 17,
   "id": "ebf9e546-df95-4674-84ea-d2c3a7d85a39",
   "metadata": {},
   "outputs": [
    {
     "data": {
      "text/plain": [
       "17"
      ]
     },
     "execution_count": 17,
     "metadata": {},
     "output_type": "execute_result"
    }
   ],
   "source": [
    "#Exercise 8 - Create a code cell to multiply and add numbers_\n",
    "\n",
    "#This a simple arithmetic expression to multiply then add integers\n",
    "(3*4)+5"
   ]
  },
  {
   "cell_type": "code",
   "execution_count": 21,
   "id": "3a38f0be-2ff9-44f0-95ba-c6075e948579",
   "metadata": {},
   "outputs": [
    {
     "data": {
      "text/plain": [
       "3.3333333333333335"
      ]
     },
     "execution_count": 21,
     "metadata": {},
     "output_type": "execute_result"
    }
   ],
   "source": [
    "#Exercise 9 - Create a code cell to convert minutes to hours\n",
    "\n",
    "#This will convert 200 minutes to hours by diving by 60\n",
    "200/60"
   ]
  },
  {
   "cell_type": "markdown",
   "id": "73729472-52d7-4202-a7ad-9d0b55f8ba4c",
   "metadata": {},
   "source": [
    "##### _Exercise 11 - Create a markdown cell to indicate the Author's name_\n",
    "\n",
    "Author\n",
    "## Guilherme"
   ]
  },
  {
   "cell_type": "code",
   "execution_count": null,
   "id": "0a0ecc48-95e5-432d-af1c-2a1a0ec03d50",
   "metadata": {},
   "outputs": [],
   "source": []
  }
 ],
 "metadata": {
  "kernelspec": {
   "display_name": "Python 3 (ipykernel)",
   "language": "python",
   "name": "python3"
  },
  "language_info": {
   "codemirror_mode": {
    "name": "ipython",
    "version": 3
   },
   "file_extension": ".py",
   "mimetype": "text/x-python",
   "name": "python",
   "nbconvert_exporter": "python",
   "pygments_lexer": "ipython3",
   "version": "3.11.7"
  }
 },
 "nbformat": 4,
 "nbformat_minor": 5
}
